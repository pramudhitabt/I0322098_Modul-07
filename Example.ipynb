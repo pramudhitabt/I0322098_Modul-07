{
 "cells": [
  {
   "attachments": {},
   "cell_type": "markdown",
   "metadata": {},
   "source": [
    "# Membuat Matriks"
   ]
  },
  {
   "cell_type": "code",
   "execution_count": null,
   "metadata": {},
   "outputs": [],
   "source": []
  },
  {
   "attachments": {},
   "cell_type": "markdown",
   "metadata": {},
   "source": [
    "1. Membuat Matriks dengan list"
   ]
  },
  {
   "cell_type": "code",
   "execution_count": 5,
   "metadata": {},
   "outputs": [
    {
     "name": "stdout",
     "output_type": "stream",
     "text": [
      "[[1, 3], [5, 7]]\n"
     ]
    }
   ],
   "source": [
    "# matriks berukuran 2 x 2\n",
    "matriksA = [ [1, 3], \n",
    "             [5, 7]] \n",
    "\n",
    "#Menyamping tetap sama\n",
    "\n",
    "print(matriksA)"
   ]
  },
  {
   "cell_type": "code",
   "execution_count": 3,
   "metadata": {},
   "outputs": [
    {
     "name": "stdout",
     "output_type": "stream",
     "text": [
      "[[6, 3], [4, 5], [2, 1]]\n"
     ]
    }
   ],
   "source": [
    "# matriks berukuran 3 x 2\n",
    "matriksB = [ [6, 3], \n",
    "             [4, 5], \n",
    "             [2, 1] ]\n",
    "\n",
    "print(matriksB)"
   ]
  },
  {
   "attachments": {},
   "cell_type": "markdown",
   "metadata": {},
   "source": [
    "2. Membuat Matriks dengan Perulangan"
   ]
  },
  {
   "cell_type": "code",
   "execution_count": 2,
   "metadata": {},
   "outputs": [
    {
     "name": "stdout",
     "output_type": "stream",
     "text": [
      "[[1, 1, 1], [1, 1, 1], [1, 1, 1]]\n"
     ]
    }
   ],
   "source": [
    "# matriks berukuran 3 x 3\n",
    "m = 3\n",
    "n = 3\n",
    "x = [0]*m\n",
    "for i in range(m):\n",
    "    x[i] = [1]*n\n",
    "print(x)"
   ]
  },
  {
   "attachments": {},
   "cell_type": "markdown",
   "metadata": {},
   "source": [
    "3. Membuat Matriks dengan input dari User"
   ]
  },
  {
   "cell_type": "code",
   "execution_count": 19,
   "metadata": {},
   "outputs": [
    {
     "name": "stdout",
     "output_type": "stream",
     "text": [
      "1 2 3 \n",
      "4 5 6 \n",
      "6 6 6 \n"
     ]
    }
   ],
   "source": [
    "# Mengambil input dari pengguna untuk ukuran matriks\n",
    "baris = int(input(\"Masukkan jumlah baris: \"))\n",
    "kolom = int(input(\"Masukkan jumlah kolom: \"))\n",
    "\n",
    "# Membuat matriks kosong dengan ukuran yang dimasukkan pengguna\n",
    "matriks = []\n",
    "for i in range(baris):\n",
    "    # Tambahkan baris kosong ke matriks\n",
    "    matriks.append([])\n",
    "\n",
    "    for j in range(kolom):\n",
    "        # Meminta pengguna memasukkan elemen matriks\n",
    "        elemen = int(input(f\"Masukkan elemen matriks[{i}][{j}]: \"))\n",
    "        matriks[i].append(elemen)\n",
    "\n",
    "# Cetak matriks\n",
    "for i in range(baris):\n",
    "    for j in range(kolom):\n",
    "        print(matriks[i][j], end=\" \")\n",
    "    print()"
   ]
  },
  {
   "attachments": {},
   "cell_type": "markdown",
   "metadata": {},
   "source": [
    "# Mengakses Matriks"
   ]
  },
  {
   "cell_type": "code",
   "execution_count": 4,
   "metadata": {},
   "outputs": [
    {
     "name": "stdout",
     "output_type": "stream",
     "text": [
      "[[1, 3], [5, 7]]\n",
      "7\n",
      "5\n"
     ]
    }
   ],
   "source": [
    "# matriks berukuran 2 x 2\n",
    "matriksA = [ [1, 3], \n",
    "             [5, 7]] \n",
    "\n",
    "print(matriksA)\n",
    "print(matriksA[1][1]) # mengakses baris 2 kolom 2\n",
    "print(matriksA[1][0]) # mengakses baris 2 kolom 1"
   ]
  },
  {
   "attachments": {},
   "cell_type": "markdown",
   "metadata": {},
   "source": [
    "# Operasi Dasar Matriks"
   ]
  },
  {
   "attachments": {},
   "cell_type": "markdown",
   "metadata": {},
   "source": [
    "1. Penjumlahan Matriks"
   ]
  },
  {
   "cell_type": "code",
   "execution_count": 10,
   "metadata": {},
   "outputs": [
    {
     "name": "stdout",
     "output_type": "stream",
     "text": [
      "[[10, 10], [10, 10]]\n"
     ]
    }
   ],
   "source": [
    "# membuat matriks A 2x2\n",
    "A = [[1, 2],\n",
    "     [4, 5]]\n",
    "\n",
    "# membuat matriks B 2x2\n",
    "B = [[9, 8],\n",
    "     [6, 5]]\n",
    "\n",
    "# membuat matriks kosong untuk hasil penjumlahan\n",
    "C = [[0, 0],\n",
    "     [0, 0]]\n",
    "\n",
    "# menjumlahkan matriks A dan B\n",
    "for i in range(len(A)):\n",
    "    for j in range(len(A[i])):\n",
    "        C[i][j] = A[i][j] + B[i][j]\n",
    "print(C)"
   ]
  },
  {
   "cell_type": "code",
   "execution_count": 9,
   "metadata": {},
   "outputs": [
    {
     "name": "stdout",
     "output_type": "stream",
     "text": [
      "10 10  \n",
      "10 10  \n"
     ]
    }
   ],
   "source": [
    "# membuat matriks A 2x2\n",
    "A = [[1, 2],\n",
    "     [4, 5]]\n",
    "\n",
    "# membuat matriks B 2x2\n",
    "B = [[9, 8],\n",
    "     [6, 5]]\n",
    "\n",
    "# menjumlahkan matriks A dan B\n",
    "for i in range(len(A)):\n",
    "     for j in range(len(A[0])):\n",
    "          print(A[i][j] + B[i][j], end = ' ')\n",
    "     print(' ')"
   ]
  },
  {
   "attachments": {},
   "cell_type": "markdown",
   "metadata": {},
   "source": [
    "2. Pengurangan Matriks"
   ]
  },
  {
   "cell_type": "code",
   "execution_count": 7,
   "metadata": {},
   "outputs": [
    {
     "name": "stdout",
     "output_type": "stream",
     "text": [
      "[[-8, -6], [-2, 0]]\n"
     ]
    }
   ],
   "source": [
    "# membuat matriks A 2x2\n",
    "A = [[1, 2],\n",
    "     [4, 5]]\n",
    "\n",
    "# membuat matriks B 2x2\n",
    "B = [[9, 8],\n",
    "     [6, 5]]\n",
    "\n",
    "# membuat matriks kosong untuk hasil pengurangan\n",
    "C = [[0, 0],\n",
    "     [0, 0]]\n",
    "\n",
    "# mengurangkan matriks A dan B\n",
    "for i in range(len(A)):\n",
    "    for j in range(len(A[i])):\n",
    "        C[i][j] = A[i][j] - B[i][j]\n",
    "print(C)"
   ]
  },
  {
   "cell_type": "code",
   "execution_count": 8,
   "metadata": {},
   "outputs": [
    {
     "name": "stdout",
     "output_type": "stream",
     "text": [
      "[-8, -6]\n",
      "[-2, 0]\n"
     ]
    }
   ],
   "source": [
    "# membuat matriks A 2x2\n",
    "A = [[1, 2],\n",
    "     [4, 5]]\n",
    "\n",
    "# membuat matriks B 2x2\n",
    "B = [[9, 8],\n",
    "     [6, 5]]\n",
    "\n",
    "# mengurangkan matriks A dan B\n",
    "for i in range(len(A)):\n",
    "    for j in range(len(A[0])):\n",
    "        A[i][j] -= B[i][j]\n",
    "for row in A:\n",
    "    print(row)"
   ]
  },
  {
   "attachments": {},
   "cell_type": "markdown",
   "metadata": {},
   "source": [
    "3. Perkalian Matriks"
   ]
  },
  {
   "cell_type": "code",
   "execution_count": 11,
   "metadata": {},
   "outputs": [
    {
     "name": "stdout",
     "output_type": "stream",
     "text": [
      "21 18 \n",
      "66 57 \n"
     ]
    }
   ],
   "source": [
    "# membuat matriks A 2x2\n",
    "A = [[1, 2],\n",
    "     [4, 5]]\n",
    "\n",
    "# membuat matriks B 2x2\n",
    "B = [[9, 8],\n",
    "     [6, 5]]\n",
    "\n",
    "# membuat matriks kosong untuk hasil perkalian\n",
    "C = []\n",
    "\n",
    "for x in range(0, len(A)):\n",
    "    row = []\n",
    "    for y in range(0, len(A[0])):\n",
    "        total = 0\n",
    "        for z in range(0, len(A)):\n",
    "            total = total + (A[x][z] * B[z][y])\n",
    "        row.append(total)\n",
    "    C.append(row)\n",
    "\n",
    "for x in range(0, len(C)):\n",
    "    for y in range(0, len(C[0])):\n",
    "        print (C[x][y], end=' ')\n",
    "    print ()"
   ]
  }
 ],
 "metadata": {
  "kernelspec": {
   "display_name": "Python 3",
   "language": "python",
   "name": "python3"
  },
  "language_info": {
   "codemirror_mode": {
    "name": "ipython",
    "version": 3
   },
   "file_extension": ".py",
   "mimetype": "text/x-python",
   "name": "python",
   "nbconvert_exporter": "python",
   "pygments_lexer": "ipython3",
   "version": "3.10.7"
  },
  "orig_nbformat": 4
 },
 "nbformat": 4,
 "nbformat_minor": 2
}
